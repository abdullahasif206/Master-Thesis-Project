{
 "cells": [
  {
   "cell_type": "code",
   "execution_count": 363,
   "id": "003ac217",
   "metadata": {
    "tags": []
   },
   "outputs": [
    {
     "name": "stdout",
     "output_type": "stream",
     "text": [
      "Extracted data saved as a NumPy array\n"
     ]
    }
   ],
   "source": [
    "import numpy as np\n",
    "import pandas as pd\n",
    "import matplotlib.pyplot as plt\n",
    "from scipy.signal import butter, filtfilt\n",
    "\n",
    "# Load your data as before\n",
    "data_path = r\"C:\\Users\\uig38452\\Master Thesis\\3D Koordinate Transformation\\LSB_Raw_Data_Koordinate_Transform_Initial\\WLU_WLD\\t_WLU_WLD_Old_Koordinate_Transform_65.csv\"\n",
    "data = pd.read_csv(data_path)\n",
    "sampling_frequency = 1000  # 1000 Hz\n",
    "total_samples = len(data)\n",
    "column_names = ['AX_LSB', 'AY_LSB', 'AZ_LSB', 'GX_LSB', 'GY_LSB', 'GZ_LSB']\n",
    "\n",
    "# Create an empty DataFrame to store the filtered data\n",
    "filtered_data_df = pd.DataFrame()\n",
    "\n",
    "# Apply low-pass filter using a Butterworth filter\n",
    "cutoff_frequency = 150  # Adjust this cutoff frequency as needed\n",
    "order = 3\n",
    "# Apply low-pass filter using a Butterworth filter and store filtered data in DataFrame\n",
    "for column_name in column_names:\n",
    "    b, a = butter(order, cutoff_frequency / (0.5 * sampling_frequency), btype='low')\n",
    "    filtered_column_data = filtfilt(b, a, data[column_name])\n",
    "    filtered_data_df[column_name] = filtered_column_data\n",
    "\n",
    "\n",
    "max_amplitude_index = 51546\n",
    "\n",
    "samples_before = 500\n",
    "samples_after = 500\n",
    "\n",
    "# Calculate start and end indices for extracting the fixed samples around the peak\n",
    "start_index = max(0, max_amplitude_index - samples_before)\n",
    "end_index = min(len(filtered_data_df) - 1, max_amplitude_index + samples_after)\n",
    "\n",
    "# Extract the data within the specified range for a 1D NumPy array\n",
    "extracted_data = filtered_data_df.iloc[start_index:end_index + 1]\n",
    "\n",
    "\n",
    "np.save('Sample_WLD_5_Max_degree_P1_500B.npy', extracted_data)\n",
    "\n",
    "print(\"Extracted data saved as a NumPy array\")\n",
    "\n"
   ]
  },
  {
   "cell_type": "markdown",
   "id": "7d50243d",
   "metadata": {
    "tags": []
   },
   "source": [
    "extracted_data.shape"
   ]
  }
 ],
 "metadata": {
  "kernelspec": {
   "display_name": "Python 3 (ipykernel)",
   "language": "python",
   "name": "python3"
  },
  "language_info": {
   "codemirror_mode": {
    "name": "ipython",
    "version": 3
   },
   "file_extension": ".py",
   "mimetype": "text/x-python",
   "name": "python",
   "nbconvert_exporter": "python",
   "pygments_lexer": "ipython3",
   "version": "3.12.4"
  }
 },
 "nbformat": 4,
 "nbformat_minor": 5
}
